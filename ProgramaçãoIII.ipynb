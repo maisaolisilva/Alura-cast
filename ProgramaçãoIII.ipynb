{
  "nbformat": 4,
  "nbformat_minor": 0,
  "metadata": {
    "colab": {
      "provenance": [],
      "authorship_tag": "ABX9TyNHRp7cxOqE2tzqeX5/IvuL",
      "include_colab_link": true
    },
    "kernelspec": {
      "name": "python3",
      "display_name": "Python 3"
    },
    "language_info": {
      "name": "python"
    }
  },
  "cells": [
    {
      "cell_type": "markdown",
      "metadata": {
        "id": "view-in-github",
        "colab_type": "text"
      },
      "source": [
        "<a href=\"https://colab.research.google.com/github/maisaolisilva/Alura-cast/blob/main/Programa%C3%A7%C3%A3oIII.ipynb\" target=\"_parent\"><img src=\"https://colab.research.google.com/assets/colab-badge.svg\" alt=\"Open In Colab\"/></a>"
      ]
    },
    {
      "cell_type": "code",
      "execution_count": 78,
      "metadata": {
        "id": "Pc7wfsp59JbA"
      },
      "outputs": [],
      "source": [
        "#Cria cada elemento da lista\n",
        "class ElementoDaLista:\n",
        "# construtor de inicialização da classe\n",
        "    def __init__(self, numero, cor):\n",
        "        self.numero = numero\n",
        "        self.cor = cor\n",
        "        self.proximo = None\n",
        "# método para imprimir o objeto\n",
        "    def __repr__(self):\n",
        "        numero = self.numero\n",
        "        cor = self.cor\n",
        "        return f\"[{numero}, {cor}]\""
      ]
    },
    {
      "cell_type": "code",
      "source": [
        "#Cria a lista encadeada simples\n",
        "class ListaEncadeada:\n",
        "  def __init__(self):\n",
        "    self.head = None\n",
        "\n",
        "  def __repr__(self):\n",
        "      nodo = self.head\n",
        "      nodos = []\n",
        "      while nodo is not None:\n",
        "          nodos.append(nodo)\n",
        "          nodo = nodo.proximo\n",
        "      nodos.append(\"None\")\n",
        "      return \" -> \".join(nodos)\n",
        "\n",
        "  def __iter__(self):\n",
        "    nodo = self.head\n",
        "    while nodo is not None:\n",
        "        yield nodo\n",
        "        nodo = nodo.proximo\n",
        "\n",
        "  def inserirComPrioridade(self, nodo):\n",
        "    nodo_atual = self.head\n",
        "    #Caso o head seja de cor V, substitui\n",
        "    if nodo_atual.cor == \"V\" or \"v\":\n",
        "        nodo.proximo = self.head\n",
        "        self.head = nodo\n",
        "        return\n",
        "    #Caso o ponteiro do nodo não for nulo e a cor for A\n",
        "    while nodo_atual.proximo != None:\n",
        "        if nodo_atual.proximo.cor == \"V\" or \"V\":\n",
        "          nodo.proximo = nodo_atual.proximo\n",
        "          nodo_atual.proximo = nodo\n",
        "          return\n",
        "        else:\n",
        "          nodo_atual = nodo_atual.proximo\n",
        "    #Caso o ponteiro do nodo for nulo e a cor for A\n",
        "    nodo_atual.proximo = nodo\n",
        "\n",
        "\n",
        "  def inserirSemPrioridade(self, nodo):\n",
        "    nodo_atual = self.head\n",
        "    while nodo_atual.proximo != None:\n",
        "        nodo_atual = nodo_atual.proximo\n",
        "    nodo_atual.proximo = nodo\n",
        "    return\n",
        "\n",
        "  def atenderPaciente(self, numero):\n",
        "    if self.head is None:\n",
        "        raise Exception(\"A lista está vazia!\")\n",
        "    if self.head.numero == numero:\n",
        "        self.head = self.head.proximo\n",
        "        return\n",
        "    nodo_anterior = self.head\n",
        "    for nodo in self:\n",
        "        if nodo.numero == numero:\n",
        "            nodo_anterior.proximo = nodo.proximo\n",
        "            return\n",
        "        nodo_anterior = nodo\n",
        "    raise Exception(\"Nó com o dado '%s' não foi econtrado.\" % numero)\n",
        "\n",
        "  def inserir(self):\n",
        "    cor = input(\"Digite a cor do cartão: \")\n",
        "    numero = int(input(\"Digite o número do cartão: \"))\n",
        "    nodo = ElementoDaLista(numero, cor)\n",
        "    if self.head is None:\n",
        "        self.head = nodo\n",
        "        return\n",
        "    if nodo.cor == \"A\" or \"a\":\n",
        "        self.inserirComPrioridade(nodo)\n",
        "    elif nodo.cor == \"V\" or \"v\":\n",
        "        self.inserirSemPrioridade(nodo)\n",
        "    else:\n",
        "      print(\"Cartão inválido!\")\n",
        "\n",
        "\n",
        "  def imprimirListaEspera(self):\n",
        "        for nodo in self:\n",
        "          print(nodo, end=' -> ')\n",
        "        print('None')"
      ],
      "metadata": {
        "id": "AA7RfGHH8Ut8"
      },
      "execution_count": 85,
      "outputs": []
    },
    {
      "cell_type": "code",
      "source": [
        "lista = ListaEncadeada()\n",
        "while True:\n",
        "  print(\"\\nSISTEMA DE TRIAGEM\\n\")\n",
        "  print(\"1 - Adicionar paciente à fila\")\n",
        "  print(\"2 - Mostrar pacientes na fila\")\n",
        "  print(\"3 - Chamar paciente da fila\")\n",
        "  print(\"4 - Sair\\n\")\n",
        "  opcao = int(input(\"Escolha uma opção: \"))\n",
        "  if opcao == 1:\n",
        "    lista.inserir()\n",
        "  elif opcao == 2:\n",
        "    lista.imprimirListaEspera()\n",
        "  elif opcao == 3:\n",
        "    numero = int(input(\"Digite o número do cartão: \"))\n",
        "    lista.atenderPaciente(numero)\n",
        "  elif opcao == 4:\n",
        "    break\n",
        "    print(\"Obrigado por usar o sistema!\")\n",
        "  else:\n",
        "    print(\"Opção inválida!\")\n",
        "    continue"
      ],
      "metadata": {
        "colab": {
          "base_uri": "https://localhost:8080/"
        },
        "id": "AfcrERj49l32",
        "outputId": "bb4ef6ef-906b-49ff-d041-4780e9e34a71"
      },
      "execution_count": 84,
      "outputs": [
        {
          "name": "stdout",
          "output_type": "stream",
          "text": [
            "\n",
            "SISTEMA DE TRIAGEM\n",
            "\n",
            "1 - Adicionar paciente à fila\n",
            "2 - Mostrar pacientes na fila\n",
            "3 - Chamar paciente da fila\n",
            "4 - Sair\n",
            "\n",
            "Escolha uma opção: 1\n",
            "Digite a cor do cartão: A\n",
            "Digite o número do cartão: 201\n",
            "\n",
            "SISTEMA DE TRIAGEM\n",
            "\n",
            "1 - Adicionar paciente à fila\n",
            "2 - Mostrar pacientes na fila\n",
            "3 - Chamar paciente da fila\n",
            "4 - Sair\n",
            "\n",
            "Escolha uma opção: 1\n",
            "Digite a cor do cartão: V\n",
            "Digite o número do cartão: 1\n",
            "\n",
            "SISTEMA DE TRIAGEM\n",
            "\n",
            "1 - Adicionar paciente à fila\n",
            "2 - Mostrar pacientes na fila\n",
            "3 - Chamar paciente da fila\n",
            "4 - Sair\n",
            "\n",
            "Escolha uma opção: 2\n",
            "[1, V] -> [201, A] -> None\n",
            "\n",
            "SISTEMA DE TRIAGEM\n",
            "\n",
            "1 - Adicionar paciente à fila\n",
            "2 - Mostrar pacientes na fila\n",
            "3 - Chamar paciente da fila\n",
            "4 - Sair\n",
            "\n",
            "Escolha uma opção: 4\n"
          ]
        }
      ]
    }
  ]
}